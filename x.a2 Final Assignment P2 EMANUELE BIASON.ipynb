{
 "cells": [
  {
   "cell_type": "markdown",
   "id": "2b04dd95-2ffb-4fa1-b4b2-091647abb161",
   "metadata": {},
   "source": [
    "# Final Assignment - Part 2"
   ]
  },
  {
   "cell_type": "markdown",
   "id": "5a968c9c-628b-42c6-b692-d88b2a1866f4",
   "metadata": {},
   "source": [
    "### Assignment Instructions"
   ]
  },
  {
   "cell_type": "markdown",
   "id": "b197f446-530c-41ee-b11f-57900dfa6fae",
   "metadata": {
    "tags": []
   },
   "source": [
    "#### Part 2   |   Advanced Difficulty Level\n",
    "\n",
    "In this second part, you will be working with a datasets containing information on indian startups' funding, including the startup's details, the funding it received, and the investors' information. \n",
    "\n",
    "In the usual `data` folder, you will find the following three datasets, including data from 2019, 2020 and 2021: \n",
    "\n",
    "- `startup_funding2019.csv`\n",
    "- `startup_funding2020.csv`\n",
    "- `startup_funding2021.csv`\n",
    "\n",
    "At [this link](https://www.kaggle.com/datasets/omkargowda/indian-startups-funding-data?select=startup_funding2019.csv) you can find the source of the original data (Kaggle) as well as more information on its composition *(note: the files in the data folder are slightly different from the originals)*."
   ]
  },
  {
   "cell_type": "markdown",
   "id": "9528671c-2443-4008-9872-ef76288bab5b",
   "metadata": {},
   "source": [
    "1. Using a **for loop**, load all three .csv files in a temporary DataFrame called `df_tmp` and, at each cycle, add a new column named `Year` that includes the year of that csv file to the temporary table and append it to a final DataFrame named `fnd`. Your final `fnd` DataFrame should include the contents from all three csv files stacked one on top of the other. \n",
    "\n",
    "    What is the **shape** of the `fnd` DataFrame? "
   ]
  },
  {
   "cell_type": "code",
   "execution_count": 20,
   "id": "95b7ed33-a7c7-4309-bfba-d07958820fb9",
   "metadata": {},
   "outputs": [],
   "source": [
    "import pandas as pd\n",
    "\n",
    "%matplotlib inline\n",
    "import matplotlib\n",
    "import matplotlib.pyplot as plt\n",
    "import seaborn as sns"
   ]
  },
  {
   "cell_type": "code",
   "execution_count": 21,
   "id": "4e83dda6",
   "metadata": {},
   "outputs": [
    {
     "data": {
      "text/plain": [
       "(2343, 10)"
      ]
     },
     "execution_count": 21,
     "metadata": {},
     "output_type": "execute_result"
    }
   ],
   "source": [
    "csv_files = [\"data/startup_funding2019.csv\", \"data/startup_funding2020.csv\", \"data/startup_funding2021.csv\"]\n",
    "fnd = pd.DataFrame()\n",
    "for file in csv_files:\n",
    "        df_tmp = pd.read_csv(file)\n",
    "        year = file.split('startup_funding')[1].split('.csv')[0]\n",
    "        df_tmp['Year'] = year\n",
    "        fnd = pd.concat([fnd, df_tmp], ignore_index=True)\n",
    "fnd.shape"
   ]
  },
  {
   "cell_type": "markdown",
   "id": "1740ef37-e478-4d67-ac20-375b652cbcf0",
   "metadata": {},
   "source": [
    "2. If you check the columns' data types, you'll notice that the columns `Founded`, `Amount($)` and `Year` are being interpreted as strings instead of numbers. Format those three columns to numeric data types. \n",
    "\n",
    "    What is the **total** `Amount($)` of funding given in the three years available?"
   ]
  },
  {
   "cell_type": "code",
   "execution_count": 23,
   "id": "839955c1-8c75-4448-9b34-cb51328b2137",
   "metadata": {},
   "outputs": [
    {
     "name": "stdout",
     "output_type": "stream",
     "text": [
      "<class 'pandas.core.frame.DataFrame'>\n",
      "RangeIndex: 2343 entries, 0 to 2342\n",
      "Data columns (total 10 columns):\n",
      " #   Column         Non-Null Count  Dtype \n",
      "---  ------         --------------  ----- \n",
      " 0   Company/Brand  2343 non-null   object\n",
      " 1   Founded        2102 non-null   object\n",
      " 2   HeadQuarter    2228 non-null   object\n",
      " 3   Sector         2325 non-null   object\n",
      " 4   What it does   2343 non-null   object\n",
      " 5   Founders       2324 non-null   object\n",
      " 6   Investor       2243 non-null   object\n",
      " 7   Amount($)      2211 non-null   object\n",
      " 8   Stage          1220 non-null   object\n",
      " 9   Year           2343 non-null   object\n",
      "dtypes: object(10)\n",
      "memory usage: 183.2+ KB\n"
     ]
    }
   ],
   "source": [
    "fnd.info()"
   ]
  },
  {
   "cell_type": "code",
   "execution_count": null,
   "id": "f502ab5f",
   "metadata": {},
   "outputs": [
    {
     "data": {
      "text/html": [
       "<div>\n",
       "<style scoped>\n",
       "    .dataframe tbody tr th:only-of-type {\n",
       "        vertical-align: middle;\n",
       "    }\n",
       "\n",
       "    .dataframe tbody tr th {\n",
       "        vertical-align: top;\n",
       "    }\n",
       "\n",
       "    .dataframe thead th {\n",
       "        text-align: right;\n",
       "    }\n",
       "</style>\n",
       "<table border=\"1\" class=\"dataframe\">\n",
       "  <thead>\n",
       "    <tr style=\"text-align: right;\">\n",
       "      <th></th>\n",
       "      <th>Company/Brand</th>\n",
       "      <th>Founded</th>\n",
       "      <th>HeadQuarter</th>\n",
       "      <th>Sector</th>\n",
       "      <th>What it does</th>\n",
       "      <th>Founders</th>\n",
       "      <th>Investor</th>\n",
       "      <th>Amount($)</th>\n",
       "      <th>Stage</th>\n",
       "      <th>Year</th>\n",
       "    </tr>\n",
       "  </thead>\n",
       "  <tbody>\n",
       "    <tr>\n",
       "      <th>1391</th>\n",
       "      <td>MoEVing</td>\n",
       "      <td>2021</td>\n",
       "      <td>Gurugram\\t#REF!</td>\n",
       "      <td>MoEVing is India's only Electric Mobility focu...</td>\n",
       "      <td>Vikash Mishra, Mragank Jain</td>\n",
       "      <td>Anshuman Maheshwary, Dr Srihari Raju Kalidindi</td>\n",
       "      <td>$5000000</td>\n",
       "      <td>NaN</td>\n",
       "      <td>Seed</td>\n",
       "      <td>2021</td>\n",
       "    </tr>\n",
       "    <tr>\n",
       "      <th>1679</th>\n",
       "      <td>AdmitKard</td>\n",
       "      <td>2016</td>\n",
       "      <td>Noida</td>\n",
       "      <td>EdTech</td>\n",
       "      <td>A tech solution for end to end career advisory...</td>\n",
       "      <td>Vamsi Krishna, Pulkit Jain, Gaurav Munjal\\t#REF!</td>\n",
       "      <td>$1000000</td>\n",
       "      <td>NaN</td>\n",
       "      <td>Pre-series A</td>\n",
       "      <td>2021</td>\n",
       "    </tr>\n",
       "    <tr>\n",
       "      <th>2234</th>\n",
       "      <td>Sochcast</td>\n",
       "      <td>2020</td>\n",
       "      <td>Online Media\\t#REF!</td>\n",
       "      <td>Sochcast is an Audio experiences company that ...</td>\n",
       "      <td>CA Harvinderjit Singh Bhatia, Garima Surana, A...</td>\n",
       "      <td>Vinners, Raj Nayak, Amritaanshu Agrawal</td>\n",
       "      <td>$Undisclosed</td>\n",
       "      <td>NaN</td>\n",
       "      <td>NaN</td>\n",
       "      <td>2021</td>\n",
       "    </tr>\n",
       "  </tbody>\n",
       "</table>\n",
       "</div>"
      ],
      "text/plain": [
       "     Company/Brand Founded          HeadQuarter  \\\n",
       "1391       MoEVing    2021      Gurugram\\t#REF!   \n",
       "1679     AdmitKard    2016                Noida   \n",
       "2234      Sochcast    2020  Online Media\\t#REF!   \n",
       "\n",
       "                                                 Sector  \\\n",
       "1391  MoEVing is India's only Electric Mobility focu...   \n",
       "1679                                             EdTech   \n",
       "2234  Sochcast is an Audio experiences company that ...   \n",
       "\n",
       "                                           What it does  \\\n",
       "1391                        Vikash Mishra, Mragank Jain   \n",
       "1679  A tech solution for end to end career advisory...   \n",
       "2234  CA Harvinderjit Singh Bhatia, Garima Surana, A...   \n",
       "\n",
       "                                              Founders      Investor  \\\n",
       "1391    Anshuman Maheshwary, Dr Srihari Raju Kalidindi      $5000000   \n",
       "1679  Vamsi Krishna, Pulkit Jain, Gaurav Munjal\\t#REF!      $1000000   \n",
       "2234           Vinners, Raj Nayak, Amritaanshu Agrawal  $Undisclosed   \n",
       "\n",
       "     Amount($)         Stage  Year  \n",
       "1391       NaN          Seed  2021  \n",
       "1679       NaN  Pre-series A  2021  \n",
       "2234       NaN           NaN  2021  "
      ]
     },
     "execution_count": 24,
     "metadata": {},
     "output_type": "execute_result"
    }
   ],
   "source": [
    "#Data QC in case there are numbers not located in the proper column\n",
    "fnd_anomaly=fnd[fnd[\"Founded\"].str.contains(r'\\$', na=False)]\n",
    "fnd_anomaly=fnd[fnd[\"HeadQuarter\"].str.contains(r'\\$', na=False)]\n",
    "fnd_anomaly=fnd[fnd[\"Sector\"].str.contains(r'\\$', na=False)]\n",
    "fnd_anomaly=fnd[fnd[\"What it does\"].str.contains(r'\\$', na=False)]\n",
    "fnd_anomaly=fnd[fnd[\"Founders\"].str.contains(r'\\$', na=False)]\n",
    "fnd_anomaly=fnd[fnd[\"Stage\"].str.contains(r'\\$', na=False)]\n",
    "fnd[\"Year\"] = fnd[\"Year\"].astype(str)\n",
    "fnd_anomaly=fnd[fnd[\"Year\"].str.contains(r'\\$', na=False)]\n",
    "fnd[\"Year\"]= fnd[\"Year\"].astype(int)\n",
    "fnd_anomaly=fnd[fnd[\"Investor\"].str.contains(r'\\$', na=False)]\n",
    "fnd_anomaly\n",
    "#I found out an anomaly in the \"Investor\" column where there are three values belonging to the \"Amount($)\" column, in the next boxes of code I will solve it"
   ]
  },
  {
   "cell_type": "code",
   "execution_count": 25,
   "id": "41e2fdab",
   "metadata": {},
   "outputs": [
    {
     "name": "stdout",
     "output_type": "stream",
     "text": [
      "$1000000\n"
     ]
    },
    {
     "data": {
      "text/plain": [
       "Company/Brand                                            AdmitKard\n",
       "Founded                                                       2016\n",
       "HeadQuarter                                                  Noida\n",
       "Sector                                                      EdTech\n",
       "What it does     A tech solution for end to end career advisory...\n",
       "Founders          Vamsi Krishna, Pulkit Jain, Gaurav Munjal\\t#REF!\n",
       "Investor                                                   Missing\n",
       "Amount($)                                                 $1000000\n",
       "Stage                                                 Pre-series A\n",
       "Year                                                          2021\n",
       "Name: 1679, dtype: object"
      ]
     },
     "execution_count": 25,
     "metadata": {},
     "output_type": "execute_result"
    }
   ],
   "source": [
    "x=fnd[fnd[\"Company/Brand\"]==\"AdmitKard\"][\"Investor\"].values[0]\n",
    "print(x)\n",
    "fnd.loc[1679, \"Amount($)\"]=x\n",
    "fnd.loc[1679, \"Investor\"]=\"Missing\"\n",
    "fnd.loc[1679]"
   ]
  },
  {
   "cell_type": "code",
   "execution_count": 26,
   "id": "0cbd5570",
   "metadata": {},
   "outputs": [
    {
     "name": "stdout",
     "output_type": "stream",
     "text": [
      "$5000000\n"
     ]
    },
    {
     "data": {
      "text/plain": [
       "Company/Brand                                              MoEVing\n",
       "Founded                                                       2021\n",
       "HeadQuarter                                        Gurugram\\t#REF!\n",
       "Sector           MoEVing is India's only Electric Mobility focu...\n",
       "What it does                           Vikash Mishra, Mragank Jain\n",
       "Founders            Anshuman Maheshwary, Dr Srihari Raju Kalidindi\n",
       "Investor                                                   Missing\n",
       "Amount($)                                                 $5000000\n",
       "Stage                                                         Seed\n",
       "Year                                                          2021\n",
       "Name: 1391, dtype: object"
      ]
     },
     "execution_count": 26,
     "metadata": {},
     "output_type": "execute_result"
    }
   ],
   "source": [
    "y=fnd[fnd[\"Company/Brand\"]==\"MoEVing\"][\"Investor\"].values[0]\n",
    "print(y)\n",
    "fnd.loc[1391, \"Amount($)\"]=y\n",
    "fnd.loc[1391, \"Investor\"]=\"Missing\"\n",
    "fnd.loc[1391]"
   ]
  },
  {
   "cell_type": "code",
   "execution_count": 27,
   "id": "4abb0ffa",
   "metadata": {},
   "outputs": [
    {
     "name": "stdout",
     "output_type": "stream",
     "text": [
      "$Undisclosed\n"
     ]
    },
    {
     "data": {
      "text/plain": [
       "Company/Brand                                             Sochcast\n",
       "Founded                                                       2020\n",
       "HeadQuarter                                    Online Media\\t#REF!\n",
       "Sector           Sochcast is an Audio experiences company that ...\n",
       "What it does     CA Harvinderjit Singh Bhatia, Garima Surana, A...\n",
       "Founders                   Vinners, Raj Nayak, Amritaanshu Agrawal\n",
       "Investor                                                   Missing\n",
       "Amount($)                                             $Undisclosed\n",
       "Stage                                                          NaN\n",
       "Year                                                          2021\n",
       "Name: 2234, dtype: object"
      ]
     },
     "execution_count": 27,
     "metadata": {},
     "output_type": "execute_result"
    }
   ],
   "source": [
    "z=fnd[fnd[\"Company/Brand\"]==\"Sochcast\"][\"Investor\"].values[0]\n",
    "print(z)\n",
    "fnd.loc[2234, \"Amount($)\"]=z\n",
    "fnd.loc[2234, \"Investor\"]=\"Missing\"\n",
    "fnd.loc[2234]"
   ]
  },
  {
   "cell_type": "code",
   "execution_count": 29,
   "id": "71afbf3b",
   "metadata": {},
   "outputs": [],
   "source": [
    "fnd[\"Founded\"]=pd.to_numeric(fnd[\"Founded\"],errors=\"coerce\").fillna(0).astype(int)\n",
    "fnd[\"Year\"]=pd.to_numeric(fnd[\"Year\"])"
   ]
  },
  {
   "cell_type": "code",
   "execution_count": 30,
   "id": "40358e7f",
   "metadata": {},
   "outputs": [],
   "source": [
    "fnd[\"Amount($)\"] = fnd[\"Amount($)\"].replace({r'[\\$,]': ''}, regex=True)\n",
    "fnd[\"Amount($)\"] = pd.to_numeric(fnd[\"Amount($)\"], errors=\"coerce\")\n"
   ]
  },
  {
   "cell_type": "code",
   "execution_count": 43,
   "id": "07af6d29",
   "metadata": {},
   "outputs": [
    {
     "name": "stdout",
     "output_type": "stream",
     "text": [
      "<class 'pandas.core.frame.DataFrame'>\n",
      "RangeIndex: 2343 entries, 0 to 2342\n",
      "Data columns (total 10 columns):\n",
      " #   Column         Non-Null Count  Dtype  \n",
      "---  ------         --------------  -----  \n",
      " 0   Company/Brand  2343 non-null   object \n",
      " 1   Founded        2343 non-null   int32  \n",
      " 2   HeadQuarter    2228 non-null   object \n",
      " 3   Sector         2325 non-null   object \n",
      " 4   What it does   2343 non-null   object \n",
      " 5   Founders       2324 non-null   object \n",
      " 6   Investor       2243 non-null   object \n",
      " 7   Amount($)      1844 non-null   float64\n",
      " 8   Stage          1220 non-null   object \n",
      " 9   Year           2343 non-null   int32  \n",
      "dtypes: float64(1), int32(2), object(7)\n",
      "memory usage: 164.9+ KB\n"
     ]
    }
   ],
   "source": [
    "fnd.info()"
   ]
  },
  {
   "cell_type": "code",
   "execution_count": 33,
   "id": "19da2832",
   "metadata": {},
   "outputs": [
    {
     "name": "stdout",
     "output_type": "stream",
     "text": [
      "The total amount of funding given in the three years is 271550633855.83002 $\n"
     ]
    }
   ],
   "source": [
    "total_amount=fnd[\"Amount($)\"].sum()\n",
    "print(\"The total amount of funding given in the three years is \" + str(total_amount) + \" $\")"
   ]
  },
  {
   "cell_type": "markdown",
   "id": "65cd9537-3d28-4361-a8db-8be41843e801",
   "metadata": {},
   "source": [
    "3. The following code shows us that \"Inflection Point Ventures\" was the `Investor` that funded the highest number of `Company/Brand`s overall (36 companies funded from 2019 to 2021). \n",
    "\n",
    "    How did \"Inflection Point Ventures\" **rank** *(in terms of most `Company/Brand`s funded) **in 2020**? (Note: in the answer write the rank number, where 1 = most funded company)*"
   ]
  },
  {
   "cell_type": "code",
   "execution_count": 34,
   "id": "28c4329f-45da-4220-b871-4535ee010fde",
   "metadata": {},
   "outputs": [
    {
     "data": {
      "text/html": [
       "<div>\n",
       "<style scoped>\n",
       "    .dataframe tbody tr th:only-of-type {\n",
       "        vertical-align: middle;\n",
       "    }\n",
       "\n",
       "    .dataframe tbody tr th {\n",
       "        vertical-align: top;\n",
       "    }\n",
       "\n",
       "    .dataframe thead th {\n",
       "        text-align: right;\n",
       "    }\n",
       "</style>\n",
       "<table border=\"1\" class=\"dataframe\">\n",
       "  <thead>\n",
       "    <tr style=\"text-align: right;\">\n",
       "      <th></th>\n",
       "      <th>Investor</th>\n",
       "      <th>size</th>\n",
       "    </tr>\n",
       "  </thead>\n",
       "  <tbody>\n",
       "    <tr>\n",
       "      <th>693</th>\n",
       "      <td>Inflection Point Ventures</td>\n",
       "      <td>36</td>\n",
       "    </tr>\n",
       "  </tbody>\n",
       "</table>\n",
       "</div>"
      ],
      "text/plain": [
       "                      Investor  size\n",
       "693  Inflection Point Ventures    36"
      ]
     },
     "execution_count": 34,
     "metadata": {},
     "output_type": "execute_result"
    }
   ],
   "source": [
    "# run this cell (don not delete it)\n",
    "fnd.groupby('Investor', as_index=False).size().sort_values('size', ascending=False).head(1)"
   ]
  },
  {
   "cell_type": "code",
   "execution_count": 35,
   "id": "6c77666b-4ef9-4df7-a83f-a4231bc9726f",
   "metadata": {},
   "outputs": [
    {
     "name": "stdout",
     "output_type": "stream",
     "text": [
      "In 2020, Inflection Point Ventures classified 4th\n"
     ]
    }
   ],
   "source": [
    "fnd2020=fnd[fnd[\"Year\"]==2020]\n",
    "ranking2020= fnd2020.groupby(\"Investor\", as_index=False)[\"Company/Brand\"].nunique()\n",
    "ranking2020=ranking2020.sort_values(by=\"Company/Brand\", ascending=False)\n",
    "ranking2020[\"Rank\"]=ranking2020[\"Company/Brand\"].rank(ascending=False, method=\"min\")\n",
    "ranking2020[\"Rank\"]=ranking2020[\"Rank\"].astype(int)\n",
    "ranking2020=ranking2020[ranking2020[\"Investor\"]==\"Inflection Point Ventures\"]\n",
    "ranking_position=ranking2020[\"Rank\"].values[0]\n",
    "print(\"In 2020, Inflection Point Ventures classified \" + str(ranking_position) +\"th\")"
   ]
  },
  {
   "cell_type": "markdown",
   "id": "9e1ebfb8-ee7b-428d-8075-ba8ea6c9f63a",
   "metadata": {},
   "source": [
    "4. Load the `Software Professionals Salary.csv` file in a DataFrame named `sps` (just like you did in Part 1), then perform the following tasks **and answer the question at the end**: \n",
    "    1. starting from the `sps` DataFrame, create a new DF called `sps_loc` where you group by `Location` and show, for each city in the dataset, the average `Rating` and `Salary`;\n",
    "    2. starting from the `fnd` DataFrame, create a new DF called `fnd_loc` where you group by `HeadQuarter` and show, for each city in the dataset **for the year 2021**, the total number of `Company/Brand`s funded and the total `Amount($)` invested;\n",
    "    3. merge the two DataFrames you just created so to **keep just the cities that are in both datasets** and save the results in a third DataFrame called `sps_fnd_loc` *(note: make sure to use the correct type of join)*;\n",
    "    4. using the `sps_fnd_loc` DataFrame: \n",
    "        1. delete the `HeadQuarter` column\n",
    "        2. create a new column `Amount($MM)` that is equal to `Amount($)` divided by 1,000,000\n",
    "        3. delete the `Amount($)` column\n",
    "        4. rename all the columns to the following names: `['City', 'Avg. Rating', 'Avg. Salary', 'Nr. Companies Funded', 'Sum Funding ($MM)']`\n",
    "    \n",
    "    **Question**: Look at the `City` that received the **highest** `Avg. Rating` score by employees: what is the `Nr. Companies Funded` in that city? "
   ]
  },
  {
   "cell_type": "code",
   "execution_count": 36,
   "id": "594dbaa6-906b-4041-9943-148927b5750a",
   "metadata": {},
   "outputs": [
    {
     "data": {
      "text/html": [
       "<div>\n",
       "<style scoped>\n",
       "    .dataframe tbody tr th:only-of-type {\n",
       "        vertical-align: middle;\n",
       "    }\n",
       "\n",
       "    .dataframe tbody tr th {\n",
       "        vertical-align: top;\n",
       "    }\n",
       "\n",
       "    .dataframe thead th {\n",
       "        text-align: right;\n",
       "    }\n",
       "</style>\n",
       "<table border=\"1\" class=\"dataframe\">\n",
       "  <thead>\n",
       "    <tr style=\"text-align: right;\">\n",
       "      <th></th>\n",
       "      <th>Rating</th>\n",
       "      <th>Company Name</th>\n",
       "      <th>Job Title</th>\n",
       "      <th>Salary</th>\n",
       "      <th>Salaries Reported</th>\n",
       "      <th>Location</th>\n",
       "      <th>Employment Status</th>\n",
       "      <th>Job Roles</th>\n",
       "    </tr>\n",
       "  </thead>\n",
       "  <tbody>\n",
       "    <tr>\n",
       "      <th>0</th>\n",
       "      <td>3.8</td>\n",
       "      <td>Sasken</td>\n",
       "      <td>Android Developer</td>\n",
       "      <td>400000</td>\n",
       "      <td>3</td>\n",
       "      <td>Bangalore</td>\n",
       "      <td>Full Time</td>\n",
       "      <td>Android</td>\n",
       "    </tr>\n",
       "    <tr>\n",
       "      <th>1</th>\n",
       "      <td>4.5</td>\n",
       "      <td>Advanced Millennium Technologies</td>\n",
       "      <td>Android Developer</td>\n",
       "      <td>400000</td>\n",
       "      <td>3</td>\n",
       "      <td>Bangalore</td>\n",
       "      <td>Full Time</td>\n",
       "      <td>Android</td>\n",
       "    </tr>\n",
       "    <tr>\n",
       "      <th>2</th>\n",
       "      <td>4.0</td>\n",
       "      <td>Unacademy</td>\n",
       "      <td>Android Developer</td>\n",
       "      <td>1000000</td>\n",
       "      <td>3</td>\n",
       "      <td>Bangalore</td>\n",
       "      <td>Full Time</td>\n",
       "      <td>Android</td>\n",
       "    </tr>\n",
       "    <tr>\n",
       "      <th>3</th>\n",
       "      <td>3.8</td>\n",
       "      <td>SnapBizz Cloudtech</td>\n",
       "      <td>Android Developer</td>\n",
       "      <td>300000</td>\n",
       "      <td>3</td>\n",
       "      <td>Bangalore</td>\n",
       "      <td>Full Time</td>\n",
       "      <td>Android</td>\n",
       "    </tr>\n",
       "    <tr>\n",
       "      <th>4</th>\n",
       "      <td>4.4</td>\n",
       "      <td>Appoids Tech Solutions</td>\n",
       "      <td>Android Developer</td>\n",
       "      <td>600000</td>\n",
       "      <td>3</td>\n",
       "      <td>Bangalore</td>\n",
       "      <td>Full Time</td>\n",
       "      <td>Android</td>\n",
       "    </tr>\n",
       "  </tbody>\n",
       "</table>\n",
       "</div>"
      ],
      "text/plain": [
       "   Rating                      Company Name          Job Title   Salary  \\\n",
       "0     3.8                            Sasken  Android Developer   400000   \n",
       "1     4.5  Advanced Millennium Technologies  Android Developer   400000   \n",
       "2     4.0                         Unacademy  Android Developer  1000000   \n",
       "3     3.8                SnapBizz Cloudtech  Android Developer   300000   \n",
       "4     4.4            Appoids Tech Solutions  Android Developer   600000   \n",
       "\n",
       "   Salaries Reported   Location Employment Status Job Roles  \n",
       "0                  3  Bangalore         Full Time   Android  \n",
       "1                  3  Bangalore         Full Time   Android  \n",
       "2                  3  Bangalore         Full Time   Android  \n",
       "3                  3  Bangalore         Full Time   Android  \n",
       "4                  3  Bangalore         Full Time   Android  "
      ]
     },
     "execution_count": 36,
     "metadata": {},
     "output_type": "execute_result"
    }
   ],
   "source": [
    "sps=pd.read_csv(\"data/Software Professionals Salary.csv\")\n",
    "sps.head()"
   ]
  },
  {
   "cell_type": "code",
   "execution_count": 37,
   "id": "cebdd2ae",
   "metadata": {},
   "outputs": [
    {
     "data": {
      "text/html": [
       "<div>\n",
       "<style scoped>\n",
       "    .dataframe tbody tr th:only-of-type {\n",
       "        vertical-align: middle;\n",
       "    }\n",
       "\n",
       "    .dataframe tbody tr th {\n",
       "        vertical-align: top;\n",
       "    }\n",
       "\n",
       "    .dataframe thead th {\n",
       "        text-align: right;\n",
       "    }\n",
       "</style>\n",
       "<table border=\"1\" class=\"dataframe\">\n",
       "  <thead>\n",
       "    <tr style=\"text-align: right;\">\n",
       "      <th></th>\n",
       "      <th>Location</th>\n",
       "      <th>Rating</th>\n",
       "      <th>Salary</th>\n",
       "    </tr>\n",
       "  </thead>\n",
       "  <tbody>\n",
       "    <tr>\n",
       "      <th>0</th>\n",
       "      <td>Bangalore</td>\n",
       "      <td>3.92</td>\n",
       "      <td>735344.74</td>\n",
       "    </tr>\n",
       "    <tr>\n",
       "      <th>1</th>\n",
       "      <td>Chennai</td>\n",
       "      <td>3.90</td>\n",
       "      <td>584559.66</td>\n",
       "    </tr>\n",
       "    <tr>\n",
       "      <th>2</th>\n",
       "      <td>Hyderabad</td>\n",
       "      <td>3.91</td>\n",
       "      <td>679099.16</td>\n",
       "    </tr>\n",
       "    <tr>\n",
       "      <th>3</th>\n",
       "      <td>Jaipur</td>\n",
       "      <td>3.94</td>\n",
       "      <td>629135.80</td>\n",
       "    </tr>\n",
       "    <tr>\n",
       "      <th>4</th>\n",
       "      <td>Kerala</td>\n",
       "      <td>3.89</td>\n",
       "      <td>553577.48</td>\n",
       "    </tr>\n",
       "    <tr>\n",
       "      <th>5</th>\n",
       "      <td>Kolkata</td>\n",
       "      <td>4.02</td>\n",
       "      <td>710925.57</td>\n",
       "    </tr>\n",
       "    <tr>\n",
       "      <th>6</th>\n",
       "      <td>Madhya Pradesh</td>\n",
       "      <td>3.99</td>\n",
       "      <td>677641.91</td>\n",
       "    </tr>\n",
       "    <tr>\n",
       "      <th>7</th>\n",
       "      <td>Mumbai</td>\n",
       "      <td>3.88</td>\n",
       "      <td>961180.37</td>\n",
       "    </tr>\n",
       "    <tr>\n",
       "      <th>8</th>\n",
       "      <td>New Delhi</td>\n",
       "      <td>3.94</td>\n",
       "      <td>658756.74</td>\n",
       "    </tr>\n",
       "    <tr>\n",
       "      <th>9</th>\n",
       "      <td>Pune</td>\n",
       "      <td>3.89</td>\n",
       "      <td>690476.31</td>\n",
       "    </tr>\n",
       "  </tbody>\n",
       "</table>\n",
       "</div>"
      ],
      "text/plain": [
       "         Location  Rating     Salary\n",
       "0       Bangalore    3.92  735344.74\n",
       "1         Chennai    3.90  584559.66\n",
       "2       Hyderabad    3.91  679099.16\n",
       "3          Jaipur    3.94  629135.80\n",
       "4          Kerala    3.89  553577.48\n",
       "5         Kolkata    4.02  710925.57\n",
       "6  Madhya Pradesh    3.99  677641.91\n",
       "7          Mumbai    3.88  961180.37\n",
       "8       New Delhi    3.94  658756.74\n",
       "9            Pune    3.89  690476.31"
      ]
     },
     "execution_count": 37,
     "metadata": {},
     "output_type": "execute_result"
    }
   ],
   "source": [
    "#Request 4.1\n",
    "sps_loc=round(sps.groupby(\"Location\", as_index=False)[[\"Rating\", \"Salary\"]].mean(),2)\n",
    "sps_loc"
   ]
  },
  {
   "cell_type": "code",
   "execution_count": 46,
   "id": "9d20a907",
   "metadata": {},
   "outputs": [
    {
     "data": {
      "text/html": [
       "<div>\n",
       "<style scoped>\n",
       "    .dataframe tbody tr th:only-of-type {\n",
       "        vertical-align: middle;\n",
       "    }\n",
       "\n",
       "    .dataframe tbody tr th {\n",
       "        vertical-align: top;\n",
       "    }\n",
       "\n",
       "    .dataframe thead th {\n",
       "        text-align: right;\n",
       "    }\n",
       "</style>\n",
       "<table border=\"1\" class=\"dataframe\">\n",
       "  <thead>\n",
       "    <tr style=\"text-align: right;\">\n",
       "      <th></th>\n",
       "      <th>HeadQuarter</th>\n",
       "      <th>CompaniesFunded</th>\n",
       "      <th>AmountInvested</th>\n",
       "    </tr>\n",
       "  </thead>\n",
       "  <tbody>\n",
       "    <tr>\n",
       "      <th>0</th>\n",
       "      <td>Ahmadabad</td>\n",
       "      <td>6</td>\n",
       "      <td>4.300000e+06</td>\n",
       "    </tr>\n",
       "    <tr>\n",
       "      <th>1</th>\n",
       "      <td>Ahmedabad</td>\n",
       "      <td>11</td>\n",
       "      <td>1.981550e+08</td>\n",
       "    </tr>\n",
       "    <tr>\n",
       "      <th>2</th>\n",
       "      <td>Ambernath</td>\n",
       "      <td>1</td>\n",
       "      <td>0.000000e+00</td>\n",
       "    </tr>\n",
       "    <tr>\n",
       "      <th>3</th>\n",
       "      <td>Andheri</td>\n",
       "      <td>1</td>\n",
       "      <td>0.000000e+00</td>\n",
       "    </tr>\n",
       "    <tr>\n",
       "      <th>4</th>\n",
       "      <td>Bangalore</td>\n",
       "      <td>356</td>\n",
       "      <td>1.432742e+10</td>\n",
       "    </tr>\n",
       "    <tr>\n",
       "      <th>...</th>\n",
       "      <td>...</td>\n",
       "      <td>...</td>\n",
       "      <td>...</td>\n",
       "    </tr>\n",
       "    <tr>\n",
       "      <th>64</th>\n",
       "      <td>The Nilgiris</td>\n",
       "      <td>1</td>\n",
       "      <td>2.000000e+05</td>\n",
       "    </tr>\n",
       "    <tr>\n",
       "      <th>65</th>\n",
       "      <td>Thiruvananthapuram</td>\n",
       "      <td>1</td>\n",
       "      <td>0.000000e+00</td>\n",
       "    </tr>\n",
       "    <tr>\n",
       "      <th>66</th>\n",
       "      <td>Trivandrum</td>\n",
       "      <td>1</td>\n",
       "      <td>3.000000e+05</td>\n",
       "    </tr>\n",
       "    <tr>\n",
       "      <th>67</th>\n",
       "      <td>Vadodara</td>\n",
       "      <td>1</td>\n",
       "      <td>1.000000e+07</td>\n",
       "    </tr>\n",
       "    <tr>\n",
       "      <th>68</th>\n",
       "      <td>West Bengal</td>\n",
       "      <td>1</td>\n",
       "      <td>1.500000e+06</td>\n",
       "    </tr>\n",
       "  </tbody>\n",
       "</table>\n",
       "<p>69 rows × 3 columns</p>\n",
       "</div>"
      ],
      "text/plain": [
       "           HeadQuarter  CompaniesFunded  AmountInvested\n",
       "0            Ahmadabad                6    4.300000e+06\n",
       "1            Ahmedabad               11    1.981550e+08\n",
       "2            Ambernath                1    0.000000e+00\n",
       "3              Andheri                1    0.000000e+00\n",
       "4            Bangalore              356    1.432742e+10\n",
       "..                 ...              ...             ...\n",
       "64        The Nilgiris                1    2.000000e+05\n",
       "65  Thiruvananthapuram                1    0.000000e+00\n",
       "66          Trivandrum                1    3.000000e+05\n",
       "67            Vadodara                1    1.000000e+07\n",
       "68         West Bengal                1    1.500000e+06\n",
       "\n",
       "[69 rows x 3 columns]"
      ]
     },
     "execution_count": 46,
     "metadata": {},
     "output_type": "execute_result"
    }
   ],
   "source": [
    "#Request 4.2\n",
    "fnd_loc=fnd[fnd[\"Year\"]==2021].groupby(\"HeadQuarter\", as_index=False).agg(CompaniesFunded=(\"Company/Brand\", \"nunique\"), AmountInvested=(\"Amount($)\", \"sum\"))\n",
    "fnd_loc"
   ]
  },
  {
   "cell_type": "code",
   "execution_count": 47,
   "id": "a69f8c09",
   "metadata": {},
   "outputs": [
    {
     "data": {
      "text/html": [
       "<div>\n",
       "<style scoped>\n",
       "    .dataframe tbody tr th:only-of-type {\n",
       "        vertical-align: middle;\n",
       "    }\n",
       "\n",
       "    .dataframe tbody tr th {\n",
       "        vertical-align: top;\n",
       "    }\n",
       "\n",
       "    .dataframe thead th {\n",
       "        text-align: right;\n",
       "    }\n",
       "</style>\n",
       "<table border=\"1\" class=\"dataframe\">\n",
       "  <thead>\n",
       "    <tr style=\"text-align: right;\">\n",
       "      <th></th>\n",
       "      <th>Location</th>\n",
       "      <th>Rating</th>\n",
       "      <th>Salary</th>\n",
       "      <th>HeadQuarter</th>\n",
       "      <th>CompaniesFunded</th>\n",
       "      <th>AmountInvested</th>\n",
       "    </tr>\n",
       "  </thead>\n",
       "  <tbody>\n",
       "    <tr>\n",
       "      <th>0</th>\n",
       "      <td>Bangalore</td>\n",
       "      <td>3.92</td>\n",
       "      <td>735344.74</td>\n",
       "      <td>Bangalore</td>\n",
       "      <td>356</td>\n",
       "      <td>1.432742e+10</td>\n",
       "    </tr>\n",
       "    <tr>\n",
       "      <th>1</th>\n",
       "      <td>Chennai</td>\n",
       "      <td>3.90</td>\n",
       "      <td>584559.66</td>\n",
       "      <td>Chennai</td>\n",
       "      <td>38</td>\n",
       "      <td>7.171400e+08</td>\n",
       "    </tr>\n",
       "    <tr>\n",
       "      <th>2</th>\n",
       "      <td>Hyderabad</td>\n",
       "      <td>3.91</td>\n",
       "      <td>679099.16</td>\n",
       "      <td>Hyderabad</td>\n",
       "      <td>32</td>\n",
       "      <td>2.439600e+08</td>\n",
       "    </tr>\n",
       "    <tr>\n",
       "      <th>3</th>\n",
       "      <td>Jaipur</td>\n",
       "      <td>3.94</td>\n",
       "      <td>629135.80</td>\n",
       "      <td>Jaipur</td>\n",
       "      <td>10</td>\n",
       "      <td>3.433000e+08</td>\n",
       "    </tr>\n",
       "    <tr>\n",
       "      <th>4</th>\n",
       "      <td>Kolkata</td>\n",
       "      <td>4.02</td>\n",
       "      <td>710925.57</td>\n",
       "      <td>Kolkata</td>\n",
       "      <td>5</td>\n",
       "      <td>2.800000e+07</td>\n",
       "    </tr>\n",
       "    <tr>\n",
       "      <th>5</th>\n",
       "      <td>Mumbai</td>\n",
       "      <td>3.88</td>\n",
       "      <td>961180.37</td>\n",
       "      <td>Mumbai</td>\n",
       "      <td>181</td>\n",
       "      <td>1.538303e+11</td>\n",
       "    </tr>\n",
       "    <tr>\n",
       "      <th>6</th>\n",
       "      <td>New Delhi</td>\n",
       "      <td>3.94</td>\n",
       "      <td>658756.74</td>\n",
       "      <td>New Delhi</td>\n",
       "      <td>116</td>\n",
       "      <td>1.673010e+09</td>\n",
       "    </tr>\n",
       "    <tr>\n",
       "      <th>7</th>\n",
       "      <td>Pune</td>\n",
       "      <td>3.89</td>\n",
       "      <td>690476.31</td>\n",
       "      <td>Pune</td>\n",
       "      <td>44</td>\n",
       "      <td>5.090700e+08</td>\n",
       "    </tr>\n",
       "  </tbody>\n",
       "</table>\n",
       "</div>"
      ],
      "text/plain": [
       "    Location  Rating     Salary HeadQuarter  CompaniesFunded  AmountInvested\n",
       "0  Bangalore    3.92  735344.74   Bangalore              356    1.432742e+10\n",
       "1    Chennai    3.90  584559.66     Chennai               38    7.171400e+08\n",
       "2  Hyderabad    3.91  679099.16   Hyderabad               32    2.439600e+08\n",
       "3     Jaipur    3.94  629135.80      Jaipur               10    3.433000e+08\n",
       "4    Kolkata    4.02  710925.57     Kolkata                5    2.800000e+07\n",
       "5     Mumbai    3.88  961180.37      Mumbai              181    1.538303e+11\n",
       "6  New Delhi    3.94  658756.74   New Delhi              116    1.673010e+09\n",
       "7       Pune    3.89  690476.31        Pune               44    5.090700e+08"
      ]
     },
     "execution_count": 47,
     "metadata": {},
     "output_type": "execute_result"
    }
   ],
   "source": [
    "#Request 4.3\n",
    "sps_fnd_loc=sps_loc.merge(fnd_loc, how=\"inner\", left_on=\"Location\", right_on=\"HeadQuarter\")\n",
    "sps_fnd_loc"
   ]
  },
  {
   "cell_type": "code",
   "execution_count": 48,
   "id": "ae6631f3",
   "metadata": {},
   "outputs": [
    {
     "data": {
      "text/html": [
       "<div>\n",
       "<style scoped>\n",
       "    .dataframe tbody tr th:only-of-type {\n",
       "        vertical-align: middle;\n",
       "    }\n",
       "\n",
       "    .dataframe tbody tr th {\n",
       "        vertical-align: top;\n",
       "    }\n",
       "\n",
       "    .dataframe thead th {\n",
       "        text-align: right;\n",
       "    }\n",
       "</style>\n",
       "<table border=\"1\" class=\"dataframe\">\n",
       "  <thead>\n",
       "    <tr style=\"text-align: right;\">\n",
       "      <th></th>\n",
       "      <th>City</th>\n",
       "      <th>Avg Rating</th>\n",
       "      <th>Avg Salary</th>\n",
       "      <th>Nr. Companies Funded</th>\n",
       "      <th>Sum Funding ($MM)</th>\n",
       "    </tr>\n",
       "  </thead>\n",
       "  <tbody>\n",
       "    <tr>\n",
       "      <th>0</th>\n",
       "      <td>Bangalore</td>\n",
       "      <td>3.92</td>\n",
       "      <td>735344.74</td>\n",
       "      <td>356</td>\n",
       "      <td>14327.42</td>\n",
       "    </tr>\n",
       "    <tr>\n",
       "      <th>1</th>\n",
       "      <td>Chennai</td>\n",
       "      <td>3.90</td>\n",
       "      <td>584559.66</td>\n",
       "      <td>38</td>\n",
       "      <td>717.14</td>\n",
       "    </tr>\n",
       "    <tr>\n",
       "      <th>2</th>\n",
       "      <td>Hyderabad</td>\n",
       "      <td>3.91</td>\n",
       "      <td>679099.16</td>\n",
       "      <td>32</td>\n",
       "      <td>243.96</td>\n",
       "    </tr>\n",
       "    <tr>\n",
       "      <th>3</th>\n",
       "      <td>Jaipur</td>\n",
       "      <td>3.94</td>\n",
       "      <td>629135.80</td>\n",
       "      <td>10</td>\n",
       "      <td>343.30</td>\n",
       "    </tr>\n",
       "    <tr>\n",
       "      <th>4</th>\n",
       "      <td>Kolkata</td>\n",
       "      <td>4.02</td>\n",
       "      <td>710925.57</td>\n",
       "      <td>5</td>\n",
       "      <td>28.00</td>\n",
       "    </tr>\n",
       "    <tr>\n",
       "      <th>5</th>\n",
       "      <td>Mumbai</td>\n",
       "      <td>3.88</td>\n",
       "      <td>961180.37</td>\n",
       "      <td>181</td>\n",
       "      <td>153830.30</td>\n",
       "    </tr>\n",
       "    <tr>\n",
       "      <th>6</th>\n",
       "      <td>New Delhi</td>\n",
       "      <td>3.94</td>\n",
       "      <td>658756.74</td>\n",
       "      <td>116</td>\n",
       "      <td>1673.01</td>\n",
       "    </tr>\n",
       "    <tr>\n",
       "      <th>7</th>\n",
       "      <td>Pune</td>\n",
       "      <td>3.89</td>\n",
       "      <td>690476.31</td>\n",
       "      <td>44</td>\n",
       "      <td>509.07</td>\n",
       "    </tr>\n",
       "  </tbody>\n",
       "</table>\n",
       "</div>"
      ],
      "text/plain": [
       "        City  Avg Rating  Avg Salary  Nr. Companies Funded  Sum Funding ($MM)\n",
       "0  Bangalore        3.92   735344.74                   356           14327.42\n",
       "1    Chennai        3.90   584559.66                    38             717.14\n",
       "2  Hyderabad        3.91   679099.16                    32             243.96\n",
       "3     Jaipur        3.94   629135.80                    10             343.30\n",
       "4    Kolkata        4.02   710925.57                     5              28.00\n",
       "5     Mumbai        3.88   961180.37                   181          153830.30\n",
       "6  New Delhi        3.94   658756.74                   116            1673.01\n",
       "7       Pune        3.89   690476.31                    44             509.07"
      ]
     },
     "execution_count": 48,
     "metadata": {},
     "output_type": "execute_result"
    }
   ],
   "source": [
    "#Request 4.4\n",
    "sps_fnd_loc=sps_fnd_loc.drop(columns=[\"HeadQuarter\"])\n",
    "sps_fnd_loc[\"Amount($MM)\"]=sps_fnd_loc[\"AmountInvested\"]/1000000\n",
    "sps_fnd_loc=sps_fnd_loc.drop(columns=[\"AmountInvested\"])\n",
    "sps_fnd_loc=sps_fnd_loc.rename(columns={\"Location\": \"City\", \"Rating\": \"Avg Rating\", \"Salary\": \"Avg Salary\", \"CompaniesFunded\":\"Nr. Companies Funded\", \"Amount($MM)\":\"Sum Funding ($MM)\"})\n",
    "sps_fnd_loc"
   ]
  },
  {
   "cell_type": "code",
   "execution_count": 49,
   "id": "9ef2ad96",
   "metadata": {},
   "outputs": [
    {
     "data": {
      "text/html": [
       "<div>\n",
       "<style scoped>\n",
       "    .dataframe tbody tr th:only-of-type {\n",
       "        vertical-align: middle;\n",
       "    }\n",
       "\n",
       "    .dataframe tbody tr th {\n",
       "        vertical-align: top;\n",
       "    }\n",
       "\n",
       "    .dataframe thead th {\n",
       "        text-align: right;\n",
       "    }\n",
       "</style>\n",
       "<table border=\"1\" class=\"dataframe\">\n",
       "  <thead>\n",
       "    <tr style=\"text-align: right;\">\n",
       "      <th></th>\n",
       "      <th>City</th>\n",
       "      <th>Avg Rating</th>\n",
       "      <th>Avg Salary</th>\n",
       "      <th>Nr. Companies Funded</th>\n",
       "      <th>Sum Funding ($MM)</th>\n",
       "    </tr>\n",
       "  </thead>\n",
       "  <tbody>\n",
       "    <tr>\n",
       "      <th>4</th>\n",
       "      <td>Kolkata</td>\n",
       "      <td>4.02</td>\n",
       "      <td>710925.57</td>\n",
       "      <td>5</td>\n",
       "      <td>28.00</td>\n",
       "    </tr>\n",
       "    <tr>\n",
       "      <th>3</th>\n",
       "      <td>Jaipur</td>\n",
       "      <td>3.94</td>\n",
       "      <td>629135.80</td>\n",
       "      <td>10</td>\n",
       "      <td>343.30</td>\n",
       "    </tr>\n",
       "    <tr>\n",
       "      <th>6</th>\n",
       "      <td>New Delhi</td>\n",
       "      <td>3.94</td>\n",
       "      <td>658756.74</td>\n",
       "      <td>116</td>\n",
       "      <td>1673.01</td>\n",
       "    </tr>\n",
       "    <tr>\n",
       "      <th>0</th>\n",
       "      <td>Bangalore</td>\n",
       "      <td>3.92</td>\n",
       "      <td>735344.74</td>\n",
       "      <td>356</td>\n",
       "      <td>14327.42</td>\n",
       "    </tr>\n",
       "    <tr>\n",
       "      <th>2</th>\n",
       "      <td>Hyderabad</td>\n",
       "      <td>3.91</td>\n",
       "      <td>679099.16</td>\n",
       "      <td>32</td>\n",
       "      <td>243.96</td>\n",
       "    </tr>\n",
       "    <tr>\n",
       "      <th>1</th>\n",
       "      <td>Chennai</td>\n",
       "      <td>3.90</td>\n",
       "      <td>584559.66</td>\n",
       "      <td>38</td>\n",
       "      <td>717.14</td>\n",
       "    </tr>\n",
       "    <tr>\n",
       "      <th>7</th>\n",
       "      <td>Pune</td>\n",
       "      <td>3.89</td>\n",
       "      <td>690476.31</td>\n",
       "      <td>44</td>\n",
       "      <td>509.07</td>\n",
       "    </tr>\n",
       "    <tr>\n",
       "      <th>5</th>\n",
       "      <td>Mumbai</td>\n",
       "      <td>3.88</td>\n",
       "      <td>961180.37</td>\n",
       "      <td>181</td>\n",
       "      <td>153830.30</td>\n",
       "    </tr>\n",
       "  </tbody>\n",
       "</table>\n",
       "</div>"
      ],
      "text/plain": [
       "        City  Avg Rating  Avg Salary  Nr. Companies Funded  Sum Funding ($MM)\n",
       "4    Kolkata        4.02   710925.57                     5              28.00\n",
       "3     Jaipur        3.94   629135.80                    10             343.30\n",
       "6  New Delhi        3.94   658756.74                   116            1673.01\n",
       "0  Bangalore        3.92   735344.74                   356           14327.42\n",
       "2  Hyderabad        3.91   679099.16                    32             243.96\n",
       "1    Chennai        3.90   584559.66                    38             717.14\n",
       "7       Pune        3.89   690476.31                    44             509.07\n",
       "5     Mumbai        3.88   961180.37                   181          153830.30"
      ]
     },
     "execution_count": 49,
     "metadata": {},
     "output_type": "execute_result"
    }
   ],
   "source": [
    "#Request 4: final request\n",
    "sps_fnd_loc.sort_values(\"Avg Rating\",ascending=False)\n",
    "#Answer: Kolkata is the city that received the highest Avg. Rating and there are 5 Companies funded in it"
   ]
  },
  {
   "cell_type": "markdown",
   "id": "a7dcfa1d-2439-4f63-bd15-abf5e7398a2e",
   "metadata": {},
   "source": [
    "5. Create a scatterplot that shows the relationship between the `Avg. Salary` and the `Sum Funding ($MM)`. Which `City` stands out in terms of total funding received by companies and salary paid to their employees? "
   ]
  },
  {
   "cell_type": "code",
   "execution_count": 42,
   "id": "e046b4cb-b783-455c-9a39-7fddc33b1119",
   "metadata": {},
   "outputs": [
    {
     "data": {
      "image/png": "[encoded data removed]",
      "text/plain": [
       "<Figure size 1000x600 with 1 Axes>"
      ]
     },
     "metadata": {},
     "output_type": "display_data"
    }
   ],
   "source": [
    "sns.set(rc={\"figure.figsize\": (10,6)})\n",
    "sns.scatterplot(x=\"Avg Salary\", y=\"Sum Funding ($MM)\", hue=\"City\", data=sps_fnd_loc)\n",
    "plt.title(\"Avg Salary vs Total Funding\")\n",
    "plt.xlabel(\"AVG Salary\")\n",
    "plt.ylabel(\"Sum Funding [$MM]\")\n",
    "plt.legend(loc=\"lower right\")\n",
    "plt.show()\n",
    "#Answer: Mumbai stands out in terms of total funding received by companies and salary paid to their employees"
   ]
  }
 ],
 "metadata": {
  "kernelspec": {
   "display_name": "base",
   "language": "python",
   "name": "python3"
  },
  "language_info": {
   "codemirror_mode": {
    "name": "ipython",
    "version": 3
   },
   "file_extension": ".py",
   "mimetype": "text/x-python",
   "name": "python",
   "nbconvert_exporter": "python",
   "pygments_lexer": "ipython3",
   "version": "3.12.7"
  }
 },
 "nbformat": 4,
 "nbformat_minor": 5
}
